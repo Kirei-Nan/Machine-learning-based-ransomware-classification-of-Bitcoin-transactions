{
 "cells": [
  {
   "cell_type": "code",
   "execution_count": null,
   "id": "d7c1e4ed",
   "metadata": {},
   "outputs": [],
   "source": [
    "#Import the library\n",
    "import matplotlib\n",
    "matplotlib.use('PDF')\n",
    "import pandas as pd\n",
    "import numpy as np\n",
    "import matplotlib.pyplot as plt\n",
    "import matplotlib\n",
    "import seaborn as sns\n",
    "from scipy.stats import gaussian_kde\n",
    "from scipy import stats\n",
    "import statsmodels.api as sm\n",
    "from matplotlib.backends.backend_pdf import PdfPages"
   ]
  },
  {
   "cell_type": "code",
   "execution_count": null,
   "id": "dce3f69b",
   "metadata": {},
   "outputs": [],
   "source": [
    "original_df = pd.read_csv('/root/data/BitcoinHeistData.csv') \n",
    "Processed_df = pd.read_csv('/root/BTC_BalancedData_Inversed_2.csv')"
   ]
  },
  {
   "cell_type": "code",
   "execution_count": null,
   "id": "54236d24",
   "metadata": {},
   "outputs": [],
   "source": [
    "#Extract different kinds of dataset by its label, Montreal (0),Padua (1),Princeton (2), White (3) \n",
    "m_df = Processed_df.loc[Processed_df['label'] == 0,'label'].size\n",
    "pa_df = Processed_df.loc[Processed_df['label'] == 1,'label'].size\n",
    "pr_df = Processed_df.loc[Processed_df['label'] == 2,'label'].size\n",
    "w_df = Processed_df.loc[Processed_df['label'] == 3,'label'].size"
   ]
  },
  {
   "cell_type": "code",
   "execution_count": null,
   "id": "69da9da8",
   "metadata": {},
   "outputs": [],
   "source": [
    "# Calculate the percentage of each dataset\n",
    "sum_pro = m_df+pa_df+pr_df+w_df"
   ]
  },
  {
   "cell_type": "code",
   "execution_count": null,
   "id": "2c90d127",
   "metadata": {},
   "outputs": [],
   "source": [
    "m_df"
   ]
  },
  {
   "cell_type": "code",
   "execution_count": null,
   "id": "0e70cc49",
   "metadata": {},
   "outputs": [],
   "source": [
    "m_df/sum_pro"
   ]
  },
  {
   "cell_type": "code",
   "execution_count": null,
   "id": "d4554779",
   "metadata": {},
   "outputs": [],
   "source": [
    "pa_df"
   ]
  },
  {
   "cell_type": "code",
   "execution_count": null,
   "id": "17cbd113",
   "metadata": {},
   "outputs": [],
   "source": [
    "pa_df/sum_pro"
   ]
  },
  {
   "cell_type": "code",
   "execution_count": null,
   "id": "2ba254eb",
   "metadata": {},
   "outputs": [],
   "source": [
    "pr_df"
   ]
  },
  {
   "cell_type": "code",
   "execution_count": null,
   "id": "874e99b8",
   "metadata": {},
   "outputs": [],
   "source": [
    "pr_df/sum_pro"
   ]
  },
  {
   "cell_type": "code",
   "execution_count": null,
   "id": "71fb6557",
   "metadata": {},
   "outputs": [],
   "source": [
    "w_df"
   ]
  },
  {
   "cell_type": "code",
   "execution_count": null,
   "id": "2d0cde65",
   "metadata": {},
   "outputs": [],
   "source": [
    "w_df/sum_pro"
   ]
  },
  {
   "cell_type": "code",
   "execution_count": null,
   "id": "f056924b",
   "metadata": {},
   "outputs": [],
   "source": [
    "#Plot the figure\n",
    "font = {'size'   : 10}\n",
    "\n",
    "matplotlib.rc('font', **font)\n",
    "import matplotlib.pyplot as plt\n",
    "from matplotlib.patches import ConnectionPatch\n",
    "import numpy as np\n",
    "\n",
    "# make figure and assign axis objects\n",
    "fig, (ax1, ax2) = plt.subplots(1, 2, figsize=(9, 5))\n",
    "fig.subplots_adjust(wspace=0)\n",
    "\n",
    "# pie chart parameters\n",
    "overall_ratios = [.75, .25]\n",
    "labels = ['Ransomware\\n(56,103)', 'Normal\\n  (18,701)']\n",
    "explode = [0.1, 0]\n",
    "# rotate so that first wedge is split by the x-axis\n",
    "angle = -180 * overall_ratios[0]\n",
    "wedges, *_ = ax1.pie(overall_ratios, autopct='%1.1f%%', startangle=angle,\n",
    "                     labels=labels, explode=explode)\n",
    "ax1.set_title('Processed Data Distribution\\n    (Total 74,804)')\n",
    "# bar chart parameters\n",
    "age_ratios = [.333, .333, .333]\n",
    "age_labels = ['Montreal\\n(18,701)', 'Padua\\n(18,701)', 'Princeton\\n(18,701)']\n",
    "bottom = 1\n",
    "width = .2\n",
    "\n",
    "# Adding from the top matches the legend.\n",
    "for j, (height, label) in enumerate(reversed([*zip(age_ratios, age_labels)])):\n",
    "    bottom -= height\n",
    "    bc = ax2.bar(0, height, width, bottom=bottom, color='C0', label=label,\n",
    "                 alpha=0.1 + 0.25 * j)\n",
    "    ax2.bar_label(bc, labels=[f\"{height:.0%}\"], label_type='center')\n",
    "\n",
    "ax2.set_title('Ransomware Types')\n",
    "ax2.legend()\n",
    "ax2.axis('off')\n",
    "ax2.set_xlim(- 2.5 * width, 2.5 * width)\n",
    "\n",
    "# use ConnectionPatch to draw lines between the two plots\n",
    "theta1, theta2 = wedges[0].theta1, wedges[0].theta2\n",
    "center, r = wedges[0].center, wedges[0].r\n",
    "bar_height = sum(age_ratios)\n",
    "\n",
    "# draw top connecting line\n",
    "x = r * np.cos(np.pi / 180 * theta2) + center[0]\n",
    "y = r * np.sin(np.pi / 180 * theta2) + center[1]\n",
    "con = ConnectionPatch(xyA=(-width / 2, bar_height), coordsA=ax2.transData,\n",
    "                      xyB=(x, y), coordsB=ax1.transData)\n",
    "con.set_color([0, 0, 0])\n",
    "con.set_linewidth(1)\n",
    "ax2.add_artist(con)\n",
    "\n",
    "# draw bottom connecting line\n",
    "x = r * np.cos(np.pi / 180 * theta1) + center[0]\n",
    "y = r * np.sin(np.pi / 180 * theta1) + center[1]\n",
    "con = ConnectionPatch(xyA=(-width / 2, 0), coordsA=ax2.transData,\n",
    "                      xyB=(x, y), coordsB=ax1.transData)\n",
    "con.set_color([0, 0, 0])\n",
    "ax2.add_artist(con)\n",
    "con.set_linewidth(1)\n",
    "with PdfPages(\"Processed Dataset Distribution.pdf\") as pdf:\n",
    "    pdf.savefig(fig)"
   ]
  }
 ],
 "metadata": {
  "kernelspec": {
   "display_name": "Python 3 (ipykernel)",
   "language": "python",
   "name": "python3"
  },
  "language_info": {
   "codemirror_mode": {
    "name": "ipython",
    "version": 3
   },
   "file_extension": ".py",
   "mimetype": "text/x-python",
   "name": "python",
   "nbconvert_exporter": "python",
   "pygments_lexer": "ipython3",
   "version": "3.10.9"
  }
 },
 "nbformat": 4,
 "nbformat_minor": 5
}
