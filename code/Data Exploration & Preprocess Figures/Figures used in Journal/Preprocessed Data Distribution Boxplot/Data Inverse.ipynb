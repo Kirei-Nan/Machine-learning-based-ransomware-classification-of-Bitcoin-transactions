{
 "cells": [
  {
   "cell_type": "markdown",
   "id": "47ec3d7f-e13a-4632-bf48-242de72eb164",
   "metadata": {},
   "source": [
    "**Data Inverse**\n",
    "This file aiming at inversing the affect of power transformation & Min-Max scaler to plot understandable processed data distribution"
   ]
  },
  {
   "cell_type": "code",
   "execution_count": null,
   "id": "58d9d138-0c45-4f80-96ce-626dbf458ca8",
   "metadata": {},
   "outputs": [],
   "source": [
    "# Third party imports\n",
    "import matplotlib.pyplot as plt\n",
    "import numpy as np\n",
    "import pandas as pd\n",
    "import statsmodels.api as sm\n",
    "from sklearn.preprocessing import LabelEncoder, MinMaxScaler, PowerTransformer, StandardScaler"
   ]
  },
  {
   "cell_type": "code",
   "execution_count": null,
   "id": "fedfe2b5-68c1-4456-b80b-8bf7628cee47",
   "metadata": {},
   "outputs": [],
   "source": [
    "# df_orig is the dataset after remove the outlier via Z-score\n",
    "df_orig = pd.read_csv('./BTC_DATA_No_FIT.csv')\n",
    "# df is the concat dataset of training dataset & testing dataset after the conduction of Power Transformation, Min-Maxx scaler & SMOTE\n",
    "df = pd.read_csv('./Recombined_Data_2.csv') "
   ]
  },
  {
   "cell_type": "code",
   "execution_count": 3,
   "id": "da50a93c-53ad-45f6-a927-2f507ff5a80a",
   "metadata": {},
   "outputs": [],
   "source": [
    "df_label = df['label']"
   ]
  },
  {
   "cell_type": "code",
   "execution_count": 4,
   "id": "7cd0f70d-fdba-4e9e-8b4d-a3fc0ec9ce4f",
   "metadata": {},
   "outputs": [],
   "source": [
    "#Delete unselected data this would not influence the fitting of power transformation & Min-max scaler\n",
    "df_orig = df_orig.drop(['is_close_to_holiday', 'cybercrime_related', 'cluster','label'], axis = 1)\n",
    "df = df.drop(['label'], axis = 1)\n",
    "int_cols = df_orig.select_dtypes(include=[int]).columns"
   ]
  },
  {
   "cell_type": "code",
   "execution_count": 5,
   "id": "775ee6b9-6b47-486b-9597-68e86a687c4c",
   "metadata": {},
   "outputs": [],
   "source": [
    "#Fitting the power transformation & Min-max scaler\n",
    "pt = PowerTransformer(method='yeo-johnson')\n",
    "numerical_cols = df_orig.select_dtypes(include=[np.number]).columns\n",
    "df_orig[numerical_cols] = pt.fit_transform(df_orig[numerical_cols])\n",
    "\n",
    "scaler = MinMaxScaler()\n",
    "df_orig[numerical_cols] = scaler.fit_transform(df_orig[numerical_cols])"
   ]
  },
  {
   "cell_type": "code",
   "execution_count": 8,
   "id": "76b74385-fd1c-4110-ab2b-4eefbd68ee87",
   "metadata": {},
   "outputs": [
    {
     "name": "stderr",
     "output_type": "stream",
     "text": [
      "/root/miniconda3/lib/python3.8/site-packages/sklearn/base.py:420: UserWarning: X does not have valid feature names, but PowerTransformer was fitted with feature names\n",
      "  warnings.warn(\n"
     ]
    }
   ],
   "source": [
    "#Inverse the dataset\n",
    "df_FIT_Inverse = scaler.inverse_transform(df)\n",
    "df_FIT_Inverse = pt.inverse_transform(df_FIT_Inverse)\n",
    "df_FIT_Inverse = pd.DataFrame(df_FIT_Inverse)\n",
    "df_FIT_Inverse.columns = df.columns"
   ]
  },
  {
   "cell_type": "code",
   "execution_count": 9,
   "id": "58776ea7-331e-4a6f-857d-270111a19816",
   "metadata": {},
   "outputs": [],
   "source": [
    "# Convert float number which should be int to integer\n",
    "df_FIT_Inverse[int_cols] = df_FIT_Inverse[int_cols].round().astype(int)\n",
    "df_FIT_Inverse =pd.concat([df_FIT_Inverse, df_label],axis = 1)"
   ]
  },
  {
   "cell_type": "code",
   "execution_count": 12,
   "id": "b08734e7-512b-4ef6-a5e2-42321a24e1bd",
   "metadata": {},
   "outputs": [],
   "source": [
    "df_FIT_Inverse.to_csv('./BTC_BalancedData_Inversed_2.csv',index = False)"
   ]
  },
  {
   "cell_type": "code",
   "execution_count": null,
   "id": "82af97e6-677f-4bef-a2fd-6860b0cc8559",
   "metadata": {},
   "outputs": [],
   "source": []
  },
  {
   "cell_type": "code",
   "execution_count": null,
   "id": "e88548ab-23e8-4a9e-9a09-e43e6b255572",
   "metadata": {},
   "outputs": [],
   "source": []
  },
  {
   "cell_type": "code",
   "execution_count": null,
   "id": "3c6dab3d-ca67-419c-a5fe-330d7d8066a1",
   "metadata": {},
   "outputs": [],
   "source": []
  },
  {
   "cell_type": "code",
   "execution_count": null,
   "id": "648f8f69-fbad-417f-bbab-46ea2790f2b8",
   "metadata": {},
   "outputs": [],
   "source": []
  },
  {
   "cell_type": "code",
   "execution_count": null,
   "id": "37d3437a-869a-4aed-884d-7cb7bd0c6ed8",
   "metadata": {},
   "outputs": [],
   "source": []
  },
  {
   "cell_type": "code",
   "execution_count": null,
   "id": "586bef86-02ea-4ba5-8fcd-ec9b4220b7fd",
   "metadata": {},
   "outputs": [],
   "source": []
  },
  {
   "cell_type": "code",
   "execution_count": null,
   "id": "ab8b32c8-2464-4c92-a152-06211021d271",
   "metadata": {},
   "outputs": [],
   "source": []
  },
  {
   "cell_type": "code",
   "execution_count": null,
   "id": "4b738611-3afe-4701-8d22-1af80771899d",
   "metadata": {},
   "outputs": [],
   "source": []
  },
  {
   "cell_type": "code",
   "execution_count": null,
   "id": "3997cae5-8ce0-4e9c-81ed-98316c18ec44",
   "metadata": {},
   "outputs": [],
   "source": []
  },
  {
   "cell_type": "code",
   "execution_count": null,
   "id": "808b7f1c-e18b-41f2-8a29-68d428a172d8",
   "metadata": {},
   "outputs": [],
   "source": []
  }
 ],
 "metadata": {
  "kernelspec": {
   "display_name": "Python 3 (ipykernel)",
   "language": "python",
   "name": "python3"
  },
  "language_info": {
   "codemirror_mode": {
    "name": "ipython",
    "version": 3
   },
   "file_extension": ".py",
   "mimetype": "text/x-python",
   "name": "python",
   "nbconvert_exporter": "python",
   "pygments_lexer": "ipython3",
   "version": "3.8.10"
  }
 },
 "nbformat": 4,
 "nbformat_minor": 5
}
