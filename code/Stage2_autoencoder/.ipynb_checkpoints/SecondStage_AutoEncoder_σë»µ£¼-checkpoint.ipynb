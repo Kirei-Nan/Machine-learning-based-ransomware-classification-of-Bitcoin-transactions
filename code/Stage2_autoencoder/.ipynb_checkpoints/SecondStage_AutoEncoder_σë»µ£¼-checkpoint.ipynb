{
 "cells": [
  {
   "cell_type": "code",
   "execution_count": 1,
   "id": "b5e3f7f6",
   "metadata": {},
   "outputs": [
    {
     "name": "stderr",
     "output_type": "stream",
     "text": [
      "/var/folders/q4/c1myh43d3jxcdphy8t47cdqm0000gn/T/ipykernel_26024/2580772081.py:42: DeprecationWarning: `import kerastuner` is deprecated, please use `import keras_tuner`.\n",
      "  from kerastuner import HyperModel, Hyperband\n"
     ]
    }
   ],
   "source": [
    "# Standard Libraries\n",
    "import numpy as np\n",
    "import pandas as pd\n",
    "\n",
    "# Machine Learning Libraries\n",
    "from sklearn.metrics import confusion_matrix, accuracy_score\n",
    "import optuna\n",
    "\n",
    "# TensorFlow Libraries\n",
    "import tensorflow as tf\n",
    "from tensorflow.keras.callbacks import EarlyStopping, ModelCheckpoint, LearningRateScheduler\n",
    "from tensorflow.keras.layers import Input, Dense, LSTM, Reshape, RepeatVector, TimeDistributed, Flatten, BatchNormalization\n",
    "from tensorflow.keras.models import Model\n",
    "from tensorflow.keras.optimizers import Adam\n",
    "\n",
    "# Keras Tuner\n",
    "from keras_tuner.tuners import RandomSearch\n",
    "from keras_tuner.engine.hyperparameters import HyperParameters\n",
    "import numpy as np\n",
    "import time\n",
    "from sklearn.metrics import accuracy_score, precision_recall_fscore_support, confusion_matrix, roc_curve, roc_auc_score, auc, ConfusionMatrixDisplay\n",
    "import matplotlib.pyplot as plt\n",
    "from matplotlib.backends.backend_pdf import PdfPages\n",
    "from sklearn.preprocessing import label_binarize\n",
    "from tensorflow.keras.models import load_model\n",
    "from tensorflow.keras import regularizers\n",
    "from tensorflow.keras.callbacks import LearningRateScheduler\n",
    "import tensorflow as tf\n",
    "import numpy as np\n",
    "from sklearn.metrics import accuracy_score, confusion_matrix\n",
    "import math\n",
    "import numpy as np\n",
    "import tensorflow as tf\n",
    "import numpy as np\n",
    "import time\n",
    "from sklearn.metrics import accuracy_score, precision_recall_fscore_support, confusion_matrix, roc_curve, roc_auc_score, auc, ConfusionMatrixDisplay\n",
    "import matplotlib.pyplot as plt\n",
    "from matplotlib.backends.backend_pdf import PdfPages\n",
    "from sklearn.preprocessing import label_binarize\n",
    "from tensorflow.keras.models import load_model\n",
    "from tensorflow.keras.callbacks import EarlyStopping, ModelCheckpoint, CSVLogger\n",
    "from kerastuner import HyperModel, Hyperband\n",
    "from tensorflow.keras import layers, regularizers\n",
    "from tensorflow.keras.models import Model, load_model\n",
    "from tensorflow.keras.optimizers import Adam\n",
    "from tensorflow.keras.layers import Dense, Input, LSTM, RepeatVector, TimeDistributed, Flatten, BatchNormalization, Reshape, Dropout\n",
    "import pandas as pd"
   ]
  },
  {
   "cell_type": "code",
   "execution_count": 2,
   "id": "42944de3",
   "metadata": {},
   "outputs": [],
   "source": [
    "df=pd.read_csv('../data/BitcoinHeistDataPreProcessed.csv')"
   ]
  },
  {
   "cell_type": "markdown",
   "id": "b0bd59d2",
   "metadata": {},
   "source": [
    "# The following is tuned result of feature selection"
   ]
  },
  {
   "cell_type": "code",
   "execution_count": 3,
   "id": "7e265fc5",
   "metadata": {},
   "outputs": [],
   "source": [
    "# #ALL\n",
    "# selected_features = ['address', 'year', 'day', 'length', 'weight', 'count', 'looped',\n",
    "#        'neighbors', 'income', 'n_address_feature', 'quarter_number',\n",
    "#        'is_close_to_holiday', 'day_of_week', 'average_income_per_transaction',\n",
    "#        'transaction_count', 'looped_ratio', 'merge_behavior',\n",
    "#        'cybercrime_related', 'length_weight', 'count_looped', 'month', 'week',\n",
    "#        'total_volume', 'average_volume', 'transaction_frequency', 'cluster']"
   ]
  },
  {
   "cell_type": "code",
   "execution_count": 4,
   "id": "b759de4e",
   "metadata": {},
   "outputs": [],
   "source": [
    "#Montreal\n",
    "selected_features = ['address', 'year', 'day', 'length', 'neighbors', 'income',\n",
    "       'n_address_feature', 'day_of_week', 'average_income_per_transaction',\n",
    "       'transaction_count', 'merge_behavior', 'length_weight', 'week',\n",
    "       'total_volume', 'average_volume', 'transaction_frequency']"
   ]
  },
  {
   "cell_type": "code",
   "execution_count": 5,
   "id": "5d2faf38",
   "metadata": {},
   "outputs": [],
   "source": [
    "# #Padua\n",
    "# selected_features = ['address', 'year', 'day', 'neighbors', 'income', 'n_address_feature',\n",
    "#        'day_of_week', 'average_income_per_transaction', 'transaction_count',\n",
    "#        'merge_behavior', 'week', 'total_volume', 'average_volume',\n",
    "#        'transaction_frequency']"
   ]
  },
  {
   "cell_type": "code",
   "execution_count": 6,
   "id": "5e72c58d",
   "metadata": {},
   "outputs": [],
   "source": [
    "# # Princeton\n",
    "# selected_features = ['address', 'year', 'day', 'length', 'weight', 'neighbors', 'income',\n",
    "#        'n_address_feature', 'day_of_week', 'average_income_per_transaction',\n",
    "#        'transaction_count', 'looped_ratio', 'total_volume', 'average_volume',\n",
    "#        'transaction_frequency']\n"
   ]
  },
  {
   "cell_type": "markdown",
   "id": "8176f5d3",
   "metadata": {},
   "source": [
    "# Version1 Only take designated attack as simulated attack"
   ]
  },
  {
   "cell_type": "code",
   "execution_count": 7,
   "id": "c53cae39",
   "metadata": {},
   "outputs": [],
   "source": [
    "# The label Montreal is encoded as 0\n",
    "# The label Panuda is encoded as 1\n",
    "# The label Princeton is encoded as 2\n",
    "# The label White is encoded as 3\n",
    "\n",
    "# df1: designated attack (1)\n",
    "# df2: other attacks (1)\n",
    "# df3: white (0)\n",
    "\n",
    "# Variable for designated attack\n",
    "designated_attack = 0\n",
    "\n",
    "# df1: designated attack (1)\n",
    "df1 = df[df['label'] == designated_attack][selected_features + ['label']].copy()\n",
    "df1['label'] = 1  # Transfer its original label to 1\n",
    "\n",
    "# df2: white (0)\n",
    "df2 = df[df['label'] == 3][selected_features + ['label']].copy()\n",
    "df2['label'] = 0\n",
    "\n",
    "# Shuffle df2\n",
    "df2 = df2.sample(frac=1, random_state=1)\n",
    "df2.reset_index(drop=True, inplace=True)  # Reset the index after shuffling\n",
    "\n",
    "# Calculate the counts\n",
    "total_normal = df2.shape[0]  \n",
    "total_attack = df1.shape[0]  \n",
    "\n",
    "# Define the splits\n",
    "train_normal_count = int(0.60 * total_normal)  \n",
    "test_and_val_normal_count = int(0.50 * total_attack)  \n",
    "\n",
    "# Split the data\n",
    "df_train = df2[:train_normal_count]  \n",
    "X_train = df_train.drop('label', axis=1)\n",
    "y_train = df_train['label']\n",
    "y_train = y_train.reset_index(drop=True)\n",
    "\n",
    "df_test_normal = df2[train_normal_count : train_normal_count + test_and_val_normal_count]  \n",
    "df_test_attack = df1[:test_and_val_normal_count]\n",
    "df_test = pd.concat([df_test_normal, df_test_attack])\n",
    "X_test = df_test.drop('label', axis=1)\n",
    "y_test = df_test['label']\n",
    "y_test = y_test.reset_index(drop=True)\n",
    "\n",
    "df_val_mixed_normal = df2[train_normal_count + test_and_val_normal_count : train_normal_count + 2 * test_and_val_normal_count]\n",
    "df_val_mixed_attack = df1[test_and_val_normal_count:]\n",
    "df_val_mixed = pd.concat([df_val_mixed_normal, df_val_mixed_attack])\n",
    "X_validation_mixed = df_val_mixed.drop('label', axis=1)\n",
    "y_validation_mixed = df_val_mixed['label']\n",
    "y_validation_mixed = y_validation_mixed.reset_index(drop=True)\n",
    "\n",
    "df_val_normal = df2[train_normal_count + 2 * test_and_val_normal_count:]  \n",
    "X_validation_normal = df_val_normal.drop('label', axis=1)\n",
    "y_validation_normal = df_val_normal['label']\n",
    "y_validation_normal = y_validation_normal.reset_index(drop=True)\n",
    "\n",
    "# Converting the dataframes to numpy arrays and ensuring they're float32\n",
    "X_train = np.asarray(X_train).astype(np.float32)\n",
    "X_validation_normal = np.asarray(X_validation_normal).astype(np.float32)\n",
    "X_validation_mixed = np.asarray(X_validation_mixed).astype(np.float32)\n",
    "X_test = np.asarray(X_test).astype(np.float32)\n"
   ]
  },
  {
   "cell_type": "markdown",
   "id": "aaff039e",
   "metadata": {},
   "source": [
    "# Feature Selection"
   ]
  },
  {
   "cell_type": "code",
   "execution_count": null,
   "id": "5cb0cc2d",
   "metadata": {},
   "outputs": [],
   "source": [
    "# Feature selection\n",
    "gb = GradientBoostingClassifier(n_estimators=100)\n",
    "gb.fit(X_train, y_train)  # Fit on the training data\n",
    "\n",
    "# Print the feature names before selection\n",
    "original_feature_names = X_train.columns  # Get feature names from the training data\n",
    "print('Original features: {}'.format(original_feature_names))\n",
    "\n",
    "# Get feature importances\n",
    "importances = gb.feature_importances_\n",
    "\n",
    "# Create a boolean mask of features selected by the model\n",
    "mask = importances > 0.001  # adjust threshold as needed\n",
    "\n",
    "# Apply the mask to the feature dataset\n",
    "X_train_new = X_train.loc[:, mask]  # Apply mask to the training data\n",
    "X_test_new = X_test.loc[:, mask]  # Apply the same mask to the testing data\n",
    "\n",
    "# Print the selected feature names\n",
    "selected_feature_names = X_train_new.columns\n",
    "print('Selected features: {}'.format(selected_feature_names))\n",
    "\n",
    "# Print the features that are not selected\n",
    "not_selected_feature_names = original_feature_names[~mask]\n",
    "print('Not selected features: {}'.format(not_selected_feature_names))\n",
    "\n",
    "# Create a DataFrame for feature importances\n",
    "feature_importances = pd.DataFrame({'feature': original_feature_names, 'importance': importances})\n",
    "\n",
    "# Sort feature importances in descending order\n",
    "feature_importances = feature_importances.sort_values('importance', ascending=False)\n",
    "\n",
    "# Plot feature importances with feature names\n",
    "plt.figure(figsize=(10, 8))\n",
    "plt.barh(feature_importances['feature'], feature_importances['importance'], color='skyblue')\n",
    "plt.xlabel(\"Importance\")\n",
    "plt.ylabel(\"Features\")\n",
    "plt.title(\"Feature importances\")\n",
    "plt.gca().invert_yaxis()  # Reverse the order of features\n",
    "\n",
    "# # Save the figure as a PDF\n",
    "# plt.savefig('feature_importances.pdf', format='pdf', bbox_inches='tight')\n",
    "\n",
    "# If you want to display the plot in the notebook after saving, uncomment the following line:\n",
    "plt.show()"
   ]
  },
  {
   "cell_type": "code",
   "execution_count": null,
   "id": "bb598603",
   "metadata": {},
   "outputs": [],
   "source": [
    "# Feature selection\n",
    "gb = GradientBoostingClassifier(n_estimators=100)\n",
    "gb.fit(X_train, y_train)  # Fit on the training data\n",
    "\n",
    "# Print the feature names before selection\n",
    "original_feature_names = X_train.columns  # Get feature names from the training data\n",
    "print('Original features: {}'.format(original_feature_names))\n",
    "\n",
    "# Get feature importances\n",
    "importances = gb.feature_importances_\n",
    "\n",
    "# Define an objective function to be minimized.\n",
    "def objective(trial, X_train, y_train):\n",
    "    # Suggest a threshold for the feature selection\n",
    "    threshold = trial.suggest_float('threshold', 0, 0.01)\n",
    "\n",
    "    # Create a mask for the current threshold\n",
    "    mask = importances > threshold\n",
    "\n",
    "    # Apply the mask to the training data\n",
    "    X_train_new = X_train.loc[:, mask]\n",
    "    \n",
    "    # If all features are filtered out, return a large negative value\n",
    "    if X_train_new.empty:\n",
    "        return -1e9\n",
    "    \n",
    "    # Fit the model and evaluate its performance\n",
    "    gb.fit(X_train_new, y_train)\n",
    "    score = gb.score(X_train_new, y_train)\n",
    "\n",
    "    # Return the score\n",
    "    return score\n",
    "\n",
    "# Create a study object and optimize the objective function.\n",
    "study = optuna.create_study(direction='maximize')\n",
    "study.optimize(lambda trial: objective(trial, X_train, y_train), n_trials=30)\n",
    "\n",
    "# Get the best trial\n",
    "best_trial = study.best_trial\n",
    "\n",
    "print('Best threshold: {}'.format(best_trial.params['threshold']))\n",
    "print('Best score: {}'.format(best_trial.value))\n",
    "\n",
    "# Apply the best threshold to the feature dataset\n",
    "mask = importances > best_trial.params['threshold']\n",
    "X_train_new = X_train.loc[:, mask]  # Apply mask to the training data\n",
    "X_test_new = X_test.loc[:, mask]  # Apply the same mask to the testing data\n",
    "\n",
    "# Print the selected feature names\n",
    "selected_feature_names = X_train_new.columns\n",
    "print('Selected features: {}'.format(selected_feature_names))\n",
    "\n",
    "# Print the features that are not selected\n",
    "not_selected_feature_names = original_feature_names[~mask]\n",
    "print('Not selected features: {}'.format(not_selected_feature_names))\n",
    "\n",
    "# Create a DataFrame for feature importances\n",
    "feature_importances = pd.DataFrame({'feature': original_feature_names, 'importance': importances})\n",
    "\n",
    "# Sort feature importances in descending order\n",
    "feature_importances = feature_importances.sort_values('importance', ascending=False)\n",
    "\n",
    "# Plot feature importances with feature names\n",
    "plt.figure(figsize=(10, 8))\n",
    "plt.barh(feature_importances['feature'], feature_importances['importance'], color='skyblue')\n",
    "plt.xlabel(\"Importance\")\n",
    "plt.ylabel(\"Features\")\n",
    "plt.title(\"Feature importances\")\n",
    "plt.gca().invert_yaxis()  # Reverse the order of features\n",
    "\n",
    "# Save the figure as a PDF\n",
    "plt.savefig('feature_importances_Princeton.pdf', format='pdf', bbox_inches='tight')\n",
    "\n",
    "# If you want to display the plot in the notebook after saving, uncomment the following line:\n",
    "plt.show()"
   ]
  },
  {
   "cell_type": "code",
   "execution_count": null,
   "id": "119dc357",
   "metadata": {},
   "outputs": [],
   "source": [
    "# Transfer X_train_new to X_train\n",
    "X_train = X_train_new.copy()\n",
    "\n",
    "# Transfer X_test_new to X_test\n",
    "X_test = X_test_new.copy()\n",
    "\n",
    "# Update the feature names to match the selected features\n",
    "selected_feature_names = X_train.columns\n",
    "print('Updated X_train with selected features: {}'.format(selected_feature_names))\n",
    "\n",
    "selected_feature_names = X_test.columns\n",
    "print('Updated X_test with selected features: {}'.format(selected_feature_names))"
   ]
  },
  {
   "cell_type": "code",
   "execution_count": 16,
   "id": "dae8b6b9",
   "metadata": {},
   "outputs": [
    {
     "data": {
      "text/plain": [
       "1    15256\n",
       "Name: label, dtype: int64"
      ]
     },
     "execution_count": 16,
     "metadata": {},
     "output_type": "execute_result"
    }
   ],
   "source": [
    "df1['label'].value_counts()"
   ]
  },
  {
   "cell_type": "code",
   "execution_count": 17,
   "id": "87af3f8b",
   "metadata": {},
   "outputs": [
    {
     "data": {
      "text/plain": [
       "0    2671631\n",
       "Name: label, dtype: int64"
      ]
     },
     "execution_count": 17,
     "metadata": {},
     "output_type": "execute_result"
    }
   ],
   "source": [
    "df2['label'].value_counts()"
   ]
  },
  {
   "cell_type": "code",
   "execution_count": 18,
   "id": "f207f52e",
   "metadata": {},
   "outputs": [
    {
     "data": {
      "text/plain": [
       "0    1602978\n",
       "Name: label, dtype: int64"
      ]
     },
     "execution_count": 18,
     "metadata": {},
     "output_type": "execute_result"
    }
   ],
   "source": [
    "df_train['label'].value_counts()"
   ]
  },
  {
   "cell_type": "code",
   "execution_count": 19,
   "id": "04a6fbce",
   "metadata": {},
   "outputs": [
    {
     "data": {
      "text/plain": [
       "0    7628\n",
       "1    7628\n",
       "Name: label, dtype: int64"
      ]
     },
     "execution_count": 19,
     "metadata": {},
     "output_type": "execute_result"
    }
   ],
   "source": [
    "df_test['label'].value_counts()"
   ]
  },
  {
   "cell_type": "code",
   "execution_count": 20,
   "id": "a5ac1aad",
   "metadata": {},
   "outputs": [
    {
     "data": {
      "text/plain": [
       "0    7628\n",
       "1    7628\n",
       "Name: label, dtype: int64"
      ]
     },
     "execution_count": 20,
     "metadata": {},
     "output_type": "execute_result"
    }
   ],
   "source": [
    "df_val_mixed['label'].value_counts()"
   ]
  },
  {
   "cell_type": "code",
   "execution_count": 21,
   "id": "b0e79ff3",
   "metadata": {},
   "outputs": [
    {
     "data": {
      "text/plain": [
       "0    1053397\n",
       "Name: label, dtype: int64"
      ]
     },
     "execution_count": 21,
     "metadata": {},
     "output_type": "execute_result"
    }
   ],
   "source": [
    "df_val_normal['label'].value_counts()"
   ]
  },
  {
   "cell_type": "code",
   "execution_count": 12,
   "id": "15b87d88",
   "metadata": {},
   "outputs": [
    {
     "name": "stdout",
     "output_type": "stream",
     "text": [
      "16\n"
     ]
    }
   ],
   "source": [
    "print(X_train.shape[1])"
   ]
  },
  {
   "cell_type": "code",
   "execution_count": 14,
   "id": "1fc7f898",
   "metadata": {
    "scrolled": true
   },
   "outputs": [
    {
     "name": "stdout",
     "output_type": "stream",
     "text": [
      "6262/6262 [==============================] - 544s 86ms/step - loss: 0.0136 - val_loss: 0.0038 - lr: 0.0010\n"
     ]
    },
    {
     "name": "stderr",
     "output_type": "stream",
     "text": [
      "/Users/nanzhenghan/opt/anaconda3/lib/python3.9/site-packages/keras/src/engine/training.py:3000: UserWarning: You are saving your model as an HDF5 file via `model.save()`. This file format is considered legacy. We recommend using instead the native Keras format, e.g. `model.save('my_model.keras')`.\n",
      "  saving_api.save_model(\n"
     ]
    }
   ],
   "source": [
    "# this is the size of our encoded representations\n",
    "encoding_dim = 32  # adjust this as needed\n",
    "\n",
    "# this is our input placeholder\n",
    "input_data = Input(shape=(X_train.shape[1],))  # Adjusted to match the input shape\n",
    "\n",
    "# \"encoded\" is the encoded representation of the input\n",
    "encoded = Dense(128, activation='relu', kernel_initializer='he_normal', kernel_regularizer=regularizers.l2(1e-5))(input_data)\n",
    "encoded = BatchNormalization()(encoded)  # Added BatchNormalization\n",
    "encoded = Reshape((128, 1))(encoded)  # Reshape for LSTM\n",
    "encoded = LSTM(64, return_sequences=True, kernel_initializer='he_normal', kernel_regularizer=regularizers.l2(1e-5))(encoded)\n",
    "encoded = LSTM(encoding_dim, kernel_initializer='he_normal', kernel_regularizer=regularizers.l2(1e-5))(encoded)\n",
    "\n",
    "# \"decoded\" is the lossy reconstruction of the input\n",
    "decoded = RepeatVector(128)(encoded)  # Repeat vector for LSTM\n",
    "decoded = LSTM(64, return_sequences=True, kernel_initializer='he_normal', kernel_regularizer=regularizers.l2(1e-5))(decoded)\n",
    "decoded = LSTM(128, return_sequences=True, kernel_initializer='he_normal', kernel_regularizer=regularizers.l2(1e-5))(decoded)\n",
    "decoded = TimeDistributed(Dense(1, kernel_initializer='he_normal', kernel_regularizer=regularizers.l2(1e-5)))(decoded)  # TimeDistributed for LSTM\n",
    "decoded = Flatten()(decoded)  # Flatten for Dense\n",
    "decoded = Dense(X_train.shape[1], activation='sigmoid', kernel_initializer='he_normal', kernel_regularizer=regularizers.l2(1e-5))(decoded)  # Adjusted to match the input shape\n",
    "\n",
    "# this model maps an input to its reconstruction\n",
    "autoencoder = Model(input_data, decoded)\n",
    "\n",
    "# this model maps an input to its encoded representation\n",
    "encoder = Model(input_data, encoded)\n",
    "\n",
    "# create a placeholder for an encoded (32-dimensional) input\n",
    "encoded_input = Input(shape=(encoding_dim,))\n",
    "# retrieve the last layers of the autoencoder model\n",
    "decoder_layer1 = autoencoder.layers[-5]\n",
    "decoder_layer2 = autoencoder.layers[-4]\n",
    "decoder_layer3 = autoencoder.layers[-3]\n",
    "decoder_layer4 = autoencoder.layers[-2]\n",
    "decoder_layer5 = autoencoder.layers[-1]\n",
    "\n",
    "# Repeat the encoded input to match the expected input shape for LSTM\n",
    "repeated_encoded_input = RepeatVector(128)(encoded_input)\n",
    "\n",
    "# create the decoder model\n",
    "decoder = Model(encoded_input, decoder_layer5(decoder_layer4(decoder_layer3(decoder_layer2(decoder_layer1(repeated_encoded_input))))))\n",
    "\n",
    "# Define a learning rate scheduler for Time-Based Decay\n",
    "def time_decay(epoch, lr):\n",
    "    decay_rate = 0.1\n",
    "    new_lr = lr/(1 + decay_rate * epoch)\n",
    "    return new_lr\n",
    "\n",
    "callbacks = [LearningRateScheduler(time_decay)]\n",
    "\n",
    "# Use a smaller initial learning rate and the legacy Adam optimizer\n",
    "optimizer = tf.keras.optimizers.legacy.Adam(learning_rate=0.001)\n",
    "\n",
    "autoencoder.compile(optimizer=optimizer, loss='mean_squared_error')\n",
    "\n",
    "# Train the autoencoder\n",
    "autoencoder.fit(X_train, X_train,\n",
    "                epochs=1,\n",
    "                batch_size=256,\n",
    "                shuffle=True,\n",
    "                validation_data=(X_validation_normal, X_validation_normal),\n",
    "                callbacks=callbacks)\n",
    "\n",
    "# Save the autoencoder model\n",
    "autoencoder.save('autoencoder.h5')"
   ]
  },
  {
   "cell_type": "code",
   "execution_count": 15,
   "id": "fedc79ae-dfc8-4fd6-8054-53adc2958cda",
   "metadata": {},
   "outputs": [
    {
     "name": "stdout",
     "output_type": "stream",
     "text": [
      "217/217 [==============================] - 4s 16ms/step\n",
      "217/217 [==============================] - 3s 15ms/step\n",
      "Accuracy: 0.7330827067669173\n",
      "Prediction time: 4.265812635421753 seconds\n",
      "Precision: 0.7532576453941541\n",
      "Recall: 0.7330827067669173\n",
      "F1 score: 0.7276589172686486\n"
     ]
    },
    {
     "data": {
      "image/png": "[encoded data removed]",
      "text/plain": [
       "<Figure size 900x400 with 4 Axes>"
      ]
     },
     "metadata": {},
     "output_type": "display_data"
    },
    {
     "data": {
      "text/plain": [
       "<Figure size 640x480 with 0 Axes>"
      ]
     },
     "metadata": {},
     "output_type": "display_data"
    },
    {
     "data": {
      "image/png": "[encoded data removed]",
      "text/plain": [
       "<Figure size 900x400 with 4 Axes>"
      ]
     },
     "metadata": {},
     "output_type": "display_data"
    },
    {
     "data": {
      "image/png": "[encoded data removed]",
      "text/plain": [
       "<Figure size 640x480 with 1 Axes>"
      ]
     },
     "metadata": {},
     "output_type": "display_data"
    }
   ],
   "source": [
    "# Load the autoencoder model\n",
    "autoencoder = load_model('autoencoder.h5')\n",
    "\n",
    "# Function to calculate reconstruction error\n",
    "def calculate_reconstruction_error(X, model):\n",
    "    predictions = model.predict(X)\n",
    "    errors = np.mean(np.power(X - predictions, 2), axis=1)\n",
    "    return errors\n",
    "\n",
    "# Function to convert reconstruction errors into class predictions\n",
    "def errors_to_class(errors, threshold):\n",
    "    classes = [1 if error > threshold else 0 for error in errors]\n",
    "    return classes\n",
    "\n",
    "\n",
    "start_time1 = time.time()\n",
    "# Calculate reconstruction error for the test dataset\n",
    "reconstruction_error_test = calculate_reconstruction_error(X_test, autoencoder)\n",
    "end_time1 = time.time()\n",
    "reconstruction_error_val_mixed = calculate_reconstruction_error(X_validation_mixed, autoencoder)\n",
    "\n",
    "# Initialize the maximum accuracy to 0\n",
    "max_accuracy = 0\n",
    "best_threshold = 0\n",
    "\n",
    "# Try thresholds between the minimum and the maximum validation reconstruction error\n",
    "for threshold in np.linspace(np.min(reconstruction_error_val_mixed), np.max(reconstruction_error_val_mixed), 100):\n",
    "    # Identify anomalies in the validation set\n",
    "    anomalies_validation = errors_to_class(reconstruction_error_val_mixed, threshold)\n",
    "\n",
    "    # Compute the validation accuracy\n",
    "    accuracy_validation = accuracy_score(y_validation_mixed, anomalies_validation)\n",
    "\n",
    "    # Update the maximum accuracy and the best threshold\n",
    "    if accuracy_validation > max_accuracy:\n",
    "        max_accuracy = accuracy_validation\n",
    "        best_threshold = threshold\n",
    "\n",
    "start_time2 = time.time()\n",
    "# Get class predictions for the test set using the best threshold\n",
    "y_pred = errors_to_class(reconstruction_error_test, best_threshold)\n",
    "end_time2 = time.time()\n",
    "\n",
    "# Calculate metrics\n",
    "accuracy = accuracy_score(y_test, y_pred)\n",
    "prediction_time = end_time1 - start_time1+end_time2-start_time2\n",
    "precision, recall, f_score, _ = precision_recall_fscore_support(y_test, y_pred, average='weighted')\n",
    "\n",
    "print('Accuracy:', accuracy)\n",
    "print('Prediction time:', prediction_time, 'seconds')\n",
    "print('Precision:', precision)\n",
    "print('Recall:', recall)\n",
    "print('F1 score:', f_score)\n",
    "\n",
    "# Confusion Matrix and save it as PDF\n",
    "sample_weight = (y_pred != y_test)\n",
    "\n",
    "with PdfPages('Atuoencoder_Confusion_matrix_Princeton.pdf') as pdf:\n",
    "    # Part 1\n",
    "    fig, axs = plt.subplots(nrows=1, ncols=2, figsize=(9, 4))\n",
    "    plt.rc('font', size=9)\n",
    "    ConfusionMatrixDisplay.from_predictions(y_test, y_pred, ax=axs[0])\n",
    "    axs[0].set_title(\"Confusion matrix\")\n",
    "    plt.rc('font', size=10)\n",
    "    ConfusionMatrixDisplay.from_predictions(y_test, y_pred, normalize=\"true\", values_format=\".0%\", ax=axs[1])\n",
    "    axs[1].set_title(\"CM normalized by row\")\n",
    "    plt.show()\n",
    "    pdf.savefig(fig)  # saves the current figure into a pdf page\n",
    "\n",
    "    plt.clf()  # clear the figure for the next plot\n",
    "\n",
    "    # Part 2\n",
    "    fig, axs = plt.subplots(nrows=1, ncols=2, figsize=(9, 4))\n",
    "    plt.rc('font', size=10)\n",
    "    ConfusionMatrixDisplay.from_predictions(y_test, y_pred, sample_weight=sample_weight, normalize=\"true\", values_format=\".0%\", ax=axs[0])\n",
    "    axs[0].set_title(\"Errors normalized by row\")\n",
    "    ConfusionMatrixDisplay.from_predictions(y_test, y_pred, sample_weight=sample_weight, normalize=\"pred\", values_format=\".0%\", ax=axs[1])\n",
    "    axs[1].set_title(\"Errors normalized by column\")\n",
    "    plt.show()\n",
    "    pdf.savefig(fig)  # saves the current figure into a pdf page\n",
    "\n",
    "# ROC Curve and save it as PDF\n",
    "roc_auc = roc_auc_score(y_test, y_pred)\n",
    "fpr, tpr, _ = roc_curve(y_test, y_pred)\n",
    "with PdfPages('autoencoder_roc_Princeton.pdf') as pdf:\n",
    "    plt.figure()\n",
    "    plt.plot(fpr, tpr, color='darkorange', lw=2, label='ROC curve (area = %0.2f)' % roc_auc)\n",
    "    plt.plot([0, 1], [0, 1], color='navy', lw=2, linestyle='--')\n",
    "    plt.xlim([0.0, 1.0])\n",
    "    plt.ylim([0.0, 1.05])\n",
    "    plt.xlabel('False Positive Rate')\n",
    "    plt.ylabel('True Positive Rate')\n",
    "    plt.title('Receiver operating characteristic')\n",
    "    plt.legend(loc=\"lower right\")\n",
    "    pdf.savefig(plt.gcf())  # Save the figure to PDF first\n",
    "    plt.show()  # Then display the figure\n",
    "\n",
    "plt.rc('font', size=14)  # make fonts great again\n"
   ]
  },
  {
   "cell_type": "markdown",
   "id": "4ae24967",
   "metadata": {},
   "source": [
    "# Model Tuning"
   ]
  },
  {
   "cell_type": "code",
   "execution_count": 13,
   "id": "207d3c71",
   "metadata": {
    "scrolled": true,
    "tags": []
   },
   "outputs": [],
   "source": [
    "class AutoencoderHyperModel(HyperModel):\n",
    "    def __init__(self, input_shape):\n",
    "        self.input_shape = input_shape\n",
    "\n",
    "    def build(self, hp):\n",
    "        input_data = Input(shape=self.input_shape)\n",
    "        \n",
    "        encoded = Dense(units=hp.Int('dense_1_units', min_value=32, max_value=256, step=32), \n",
    "                        activation=hp.Choice('dense_1_activation', values=['relu', 'tanh', 'sigmoid']), \n",
    "                        kernel_initializer='he_normal', \n",
    "                        kernel_regularizer=regularizers.l2(hp.Choice('dense_1_l2', values=[1e-2, 1e-3, 1e-4, 1e-5])))(input_data)\n",
    "        encoded = Dropout(hp.Float('dropout_1', 0.0, 0.5, step=0.1, default=0.5))(encoded)\n",
    "        encoded = BatchNormalization()(encoded)\n",
    "        encoded = Reshape((-1, 1))(encoded)\n",
    "        encoded = LSTM(units=hp.Int('lstm_1_units', min_value=32, max_value=256, step=32),\n",
    "                       return_sequences=True, \n",
    "                       kernel_initializer='he_normal', \n",
    "                       kernel_regularizer=regularizers.l2(hp.Choice('lstm_1_l2', values=[1e-2, 1e-3, 1e-4, 1e-5])))(encoded)\n",
    "        encoded = LSTM(units=hp.Int('lstm_2_units', min_value=32, max_value=256, step=32),\n",
    "                       kernel_initializer='he_normal', \n",
    "                       kernel_regularizer=regularizers.l2(hp.Choice('lstm_2_l2', values=[1e-2, 1e-3, 1e-4, 1e-5])))(encoded)\n",
    "\n",
    "        decoded = RepeatVector(self.input_shape[0])(encoded)\n",
    "        decoded = LSTM(units=hp.Int('lstm_3_units', min_value=32, max_value=256, step=32),\n",
    "                       return_sequences=True, \n",
    "                       kernel_initializer='he_normal', \n",
    "                       kernel_regularizer=regularizers.l2(hp.Choice('lstm_3_l2', values=[1e-2, 1e-3, 1e-4, 1e-5])))(decoded)\n",
    "        decoded = LSTM(units=hp.Int('lstm_4_units', min_value=32, max_value=256, step=32),\n",
    "                       return_sequences=True, \n",
    "                       kernel_initializer='he_normal', \n",
    "                       kernel_regularizer=regularizers.l2(hp.Choice('lstm_4_l2', values=[1e-2, 1e-3, 1e-4, 1e-5])))(decoded)\n",
    "        decoded = TimeDistributed(Dense(1, kernel_initializer='he_normal',\n",
    "                                        kernel_regularizer=regularizers.l2(hp.Choice('dense_2_l2', values=[1e-2, 1e-3, 1e-4, 1e-5]))))(decoded)\n",
    "        decoded = Flatten()(decoded)\n",
    "        decoded = Dense(self.input_shape[0], activation='sigmoid', kernel_initializer='he_normal',\n",
    "                        kernel_regularizer=regularizers.l2(hp.Choice('dense_3_l2', values=[1e-2, 1e-3, 1e-4, 1e-5])))(decoded)\n",
    "\n",
    "        model = Model(inputs=input_data, outputs=decoded)\n",
    "        model.compile(optimizer=Adam(learning_rate=hp.Choice('learning_rate', values=[1e-2, 1e-3, 1e-4])),\n",
    "                      loss='mean_squared_error')\n",
    "\n",
    "        return model\n",
    "\n",
    "input_shape = (26,)\n",
    "hypermodel = AutoencoderHyperModel(input_shape)\n",
    "\n",
    "tuner = Hyperband(\n",
    "    hypermodel,\n",
    "    objective='val_loss',\n",
    "    max_epochs=10,\n",
    "    factor=3,\n",
    "    directory='autoencoder_tuning',\n",
    "    project_name='autoencoder',\n",
    "    overwrite=True  # Overwrite the existing project\n",
    ")\n",
    "\n",
    "\n",
    "tuner.search_space_summary()\n",
    "\n",
    "stop_early = EarlyStopping(monitor='val_loss', patience=5)\n",
    "\n",
    "# Saving the best model to a file\n",
    "checkpoint = ModelCheckpoint('autoencoder_best.h5', save_best_only=True)\n",
    "\n",
    "# Logging the training process to a csv file\n",
    "csv_logger = CSVLogger('training_log.csv')\n",
    "\n",
    "tuner.search(X_train, X_train,\n",
    "             epochs=100,\n",
    "             validation_data=(X_validation_mixed, X_validation_mixed),\n",
    "             callbacks=[stop_early, checkpoint, csv_logger],\n",
    "             verbose=1)  # 1 or 2 for more detailed information\n",
    "\n",
    "tuner.results_summary()\n",
    "\n",
    "# Getting the best model from tuner\n",
    "best_model = tuner.get_best_models(num_models=1)[0]\n",
    "\n",
    "# Print the summary of the best model\n",
    "best_model.summary()\n",
    "\n",
    "# Saving the best model explicitly\n",
    "best_model.save('autoencoder_best_from_tuner.h5')\n",
    "\n",
    "# To load the best model from file\n",
    "loaded_model = load_model('autoencoder_best.h5')\n",
    "\n",
    "# To read the training logs\n",
    "logs = pd.read_csv('training_log.csv')\n",
    "print(logs)\n"
   ]
  },
  {
   "cell_type": "code",
   "execution_count": 22,
   "id": "f8b04ca5",
   "metadata": {
    "scrolled": true
   },
   "outputs": [],
   "source": [
    "# import matplotlib.pyplot as plt\n",
    "# import pandas as pd\n",
    "\n",
    "# # Load the training log\n",
    "# logs = pd.read_csv('training_log.csv')\n",
    "\n",
    "# # Plotting the training and validation loss\n",
    "# plt.figure(figsize=(12, 6))\n",
    "# plt.plot(logs['epoch'], logs['loss'], label='Training Loss')\n",
    "# plt.plot(logs['epoch'], logs['val_loss'], label='Validation Loss')\n",
    "# plt.xlabel('Epochs')\n",
    "# plt.ylabel('Loss')\n",
    "# plt.title('Training and Validation Loss Over Time')\n",
    "# plt.legend()\n",
    "\n",
    "# # Save the plot as an image file\n",
    "# plt.savefig('training_validation_loss.png')"
   ]
  },
  {
   "cell_type": "code",
   "execution_count": 16,
   "id": "79b5467a-c37b-4620-a257-1a30cc403d2a",
   "metadata": {},
   "outputs": [],
   "source": [
    "best_model = load_model('autoencoder_best_from_tuner.h5')\n",
    "# best_model = load_model('autoencoder_best.h5')\n",
    "\n",
    "\n",
    "# Function to calculate reconstruction error\n",
    "def calculate_reconstruction_error(X, model):\n",
    "    predictions = model.predict(X)\n",
    "    errors = np.mean(np.power(X - predictions, 2), axis=1)\n",
    "    return errors\n",
    "\n",
    "# Function to convert reconstruction errors into class predictions\n",
    "def errors_to_class(errors, threshold):\n",
    "    classes = [1 if error > threshold else 0 for error in errors]\n",
    "    return classes\n",
    "\n",
    "\n",
    "start_time1 = time.time()\n",
    "# Calculate reconstruction error for the test dataset\n",
    "reconstruction_error_test = calculate_reconstruction_error(X_test, best_model)\n",
    "end_time1 = time.time()\n",
    "reconstruction_error_val_mixed = calculate_reconstruction_error(X_validation_mixed, best_model)\n",
    "\n",
    "# Initialize the maximum accuracy to 0\n",
    "max_accuracy = 0\n",
    "best_threshold = 0\n",
    "\n",
    "# Try thresholds between the minimum and the maximum validation reconstruction error\n",
    "for threshold in np.linspace(np.min(reconstruction_error_val_mixed), np.max(reconstruction_error_val_mixed), 100):\n",
    "    # Identify anomalies in the validation set\n",
    "    anomalies_validation = errors_to_class(reconstruction_error_val_mixed, threshold)\n",
    "\n",
    "    # Compute the validation accuracy\n",
    "    accuracy_validation = accuracy_score(y_validation_mixed, anomalies_validation)\n",
    "\n",
    "    # Update the maximum accuracy and the best threshold\n",
    "    if accuracy_validation > max_accuracy:\n",
    "        max_accuracy = accuracy_validation\n",
    "        best_threshold = threshold\n",
    "\n",
    "start_time2 = time.time()\n",
    "# Get class predictions for the test set using the best threshold\n",
    "y_pred = errors_to_class(reconstruction_error_test, best_threshold)\n",
    "end_time2 = time.time()\n",
    "\n",
    "# Calculate metrics\n",
    "accuracy = accuracy_score(y_test, y_pred)\n",
    "prediction_time = end_time1 - start_time1+end_time2-start_time2\n",
    "precision, recall, f_score, _ = precision_recall_fscore_support(y_test, y_pred, average='weighted')\n",
    "\n",
    "print('Accuracy:', accuracy)\n",
    "print('Prediction time:', prediction_time, 'seconds')\n",
    "print('Precision:', precision)\n",
    "print('Recall:', recall)\n",
    "print('F1 score:', f_score)\n",
    "\n",
    "# Confusion Matrix and save it as PDF\n",
    "sample_weight = (y_pred != y_test)\n",
    "\n",
    "with PdfPages('Atuoencoder_Confusion_matrix_tuned_Princeton.pdf') as pdf:\n",
    "    # Part 1\n",
    "    fig, axs = plt.subplots(nrows=1, ncols=2, figsize=(9, 4))\n",
    "    plt.rc('font', size=9)\n",
    "    ConfusionMatrixDisplay.from_predictions(y_test, y_pred, ax=axs[0])\n",
    "    axs[0].set_title(\"Confusion matrix\")\n",
    "    plt.rc('font', size=10)\n",
    "    ConfusionMatrixDisplay.from_predictions(y_test, y_pred, normalize=\"true\", values_format=\".0%\", ax=axs[1])\n",
    "    axs[1].set_title(\"CM normalized by row\")\n",
    "    plt.show()\n",
    "    pdf.savefig(fig)  # saves the current figure into a pdf page\n",
    "\n",
    "    plt.clf()  # clear the figure for the next plot\n",
    "\n",
    "    # Part 2\n",
    "    fig, axs = plt.subplots(nrows=1, ncols=2, figsize=(9, 4))\n",
    "    plt.rc('font', size=10)\n",
    "    ConfusionMatrixDisplay.from_predictions(y_test, y_pred, sample_weight=sample_weight, normalize=\"true\", values_format=\".0%\", ax=axs[0])\n",
    "    axs[0].set_title(\"Errors normalized by row\")\n",
    "    ConfusionMatrixDisplay.from_predictions(y_test, y_pred, sample_weight=sample_weight, normalize=\"pred\", values_format=\".0%\", ax=axs[1])\n",
    "    axs[1].set_title(\"Errors normalized by column\")\n",
    "    plt.show()\n",
    "    pdf.savefig(fig)  # saves the current figure into a pdf page\n",
    "\n",
    "\n",
    "# ROC Curve and save it as PDF\n",
    "roc_auc = roc_auc_score(y_test, y_pred)\n",
    "fpr, tpr, _ = roc_curve(y_test, y_pred)\n",
    "with PdfPages('autoencoder_roc_tuned_Princeton.pdf') as pdf:\n",
    "    plt.figure()\n",
    "    plt.plot(fpr, tpr, color='darkorange', lw=2, label='ROC curve (area = %0.2f)' % roc_auc)\n",
    "    plt.plot([0, 1], [0, 1], color='navy', lw=2, linestyle='--')\n",
    "    plt.xlim([0.0, 1.0])\n",
    "    plt.ylim([0.0, 1.05])\n",
    "    plt.xlabel('False Positive Rate')\n",
    "    plt.ylabel('True Positive Rate')\n",
    "    plt.title('Receiver operating characteristic')\n",
    "    plt.legend(loc=\"lower right\")\n",
    "    pdf.savefig(plt.gcf())  # Save the figure to PDF first\n",
    "    plt.show()  # Then display the figure\n",
    "\n",
    "plt.rc('font', size=14)  # make fonts great again"
   ]
  },
  {
   "cell_type": "code",
   "execution_count": null,
   "id": "a235bc9d",
   "metadata": {},
   "outputs": [],
   "source": []
  },
  {
   "cell_type": "code",
   "execution_count": null,
   "id": "c6c0ac64",
   "metadata": {},
   "outputs": [],
   "source": []
  },
  {
   "cell_type": "code",
   "execution_count": null,
   "id": "dab9f9ef",
   "metadata": {},
   "outputs": [],
   "source": []
  },
  {
   "cell_type": "code",
   "execution_count": null,
   "id": "fa23bc5f",
   "metadata": {},
   "outputs": [],
   "source": []
  }
 ],
 "metadata": {
  "kernelspec": {
   "display_name": "Python 3 (ipykernel)",
   "language": "python",
   "name": "python3"
  },
  "language_info": {
   "codemirror_mode": {
    "name": "ipython",
    "version": 3
   },
   "file_extension": ".py",
   "mimetype": "text/x-python",
   "name": "python",
   "nbconvert_exporter": "python",
   "pygments_lexer": "ipython3",
   "version": "3.9.13"
  }
 },
 "nbformat": 4,
 "nbformat_minor": 5
}
