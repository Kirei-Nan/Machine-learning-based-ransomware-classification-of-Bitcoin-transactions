{
 "cells": [
  {
   "cell_type": "code",
   "execution_count": null,
   "id": "61c6315a",
   "metadata": {},
   "outputs": [],
   "source": [
    "#Import the library\n",
    "import matplotlib\n",
    "matplotlib.use('PDF')\n",
    "import pandas as pd\n",
    "import numpy as np\n",
    "import matplotlib.pyplot as plt\n",
    "import matplotlib\n",
    "import seaborn as sns\n",
    "from scipy.stats import gaussian_kde\n",
    "from scipy import stats\n",
    "import statsmodels.api as sm\n",
    "from matplotlib.backends.backend_pdf import PdfPages"
   ]
  },
  {
   "cell_type": "code",
   "execution_count": null,
   "id": "0809499c",
   "metadata": {},
   "outputs": [],
   "source": [
    "df = pd.read_csv('/root/BitcoinHeistData.csv') "
   ]
  },
  {
   "cell_type": "code",
   "execution_count": null,
   "id": "7486c2d3",
   "metadata": {},
   "outputs": [],
   "source": [
    "#Calculate the VIF\n",
    "predictor_variables = ['year', 'day', 'length', 'weight', 'count', 'looped', 'neighbors', 'income']\n",
    "correlation_matrix = df[predictor_variables].corr()\n",
    "X = df[predictor_variables]\n",
    "vif = pd.DataFrame()\n",
    "vif[\"Variable\"] = X.columns\n",
    "vif[\"VIF\"] = [variance_inflation_factor(X.values, i) for i in range(X.shape[1])]\n",
    "print(vif)"
   ]
  },
  {
   "cell_type": "code",
   "execution_count": null,
   "id": "67120fc3",
   "metadata": {},
   "outputs": [],
   "source": [
    "vif_val = vif['VIF'].tolist()\n",
    "vif_label = vif['Variable'].tolist()"
   ]
  },
  {
   "cell_type": "code",
   "execution_count": null,
   "id": "1658ea14",
   "metadata": {},
   "outputs": [],
   "source": [
    "#Plot the VIF\n",
    "fig, ax = plt.subplots(figsize=(10,6))\n",
    "bar_container = ax.bar(vif_label, vif_val)\n",
    "ax.set(ylabel='VIF',xlabel = 'Attributes', title='VIF of Original Data Attributes')\n",
    "ax.bar_label(bar_container)\n",
    "l1 = ax.axhline(10,color='red',ls='--')\n",
    "with PdfPages('VIF of Original Data Attributes.pdf') as pdf:\n",
    "    pdf.savefig(fig)  "
   ]
  }
 ],
 "metadata": {
  "kernelspec": {
   "display_name": "Python 3 (ipykernel)",
   "language": "python",
   "name": "python3"
  },
  "language_info": {
   "codemirror_mode": {
    "name": "ipython",
    "version": 3
   },
   "file_extension": ".py",
   "mimetype": "text/x-python",
   "name": "python",
   "nbconvert_exporter": "python",
   "pygments_lexer": "ipython3",
   "version": "3.10.9"
  }
 },
 "nbformat": 4,
 "nbformat_minor": 5
}
