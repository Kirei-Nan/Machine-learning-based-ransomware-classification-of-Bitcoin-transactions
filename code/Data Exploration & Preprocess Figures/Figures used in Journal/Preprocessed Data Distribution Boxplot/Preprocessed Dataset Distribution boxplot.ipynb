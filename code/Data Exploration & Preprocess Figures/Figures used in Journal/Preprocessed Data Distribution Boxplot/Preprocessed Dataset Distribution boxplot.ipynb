{
 "cells": [
  {
   "cell_type": "code",
   "execution_count": null,
   "id": "25b72261",
   "metadata": {},
   "outputs": [],
   "source": [
    "# Import library\n",
    "import numpy as np\n",
    "import pandas as pd\n",
    "import matplotlib.pyplot as plt"
   ]
  },
  {
   "cell_type": "code",
   "execution_count": null,
   "id": "f2fd6a29",
   "metadata": {},
   "outputs": [],
   "source": [
    "# Read & Process the dataset\n",
    "df = pd.read_csv('/root/BitcoinHeistData.csv') \n",
    "df_bp = df.drop(['address','label'],axis = 1)"
   ]
  },
  {
   "cell_type": "code",
   "execution_count": null,
   "id": "f1a60903",
   "metadata": {},
   "outputs": [],
   "source": [
    "# Plotting the boxplot of each features\n",
    "# Due to the limit of pdf that could contain, each boxplot will have individual file\n",
    "from matplotlib.backends.backend_pdf import PdfPages\n",
    "df_bp = df.drop(['address','label'],axis = 1)\n",
    "df_bp_label = df_bp.columns\n",
    "plt.subplots_adjust(bottom=0.05,wspace = 0.4,hspace = 0.4)\n",
    "columns = 0\n",
    "meanlineprops = meanlineprops = dict(linestyle='-', linewidth=2.5, color='green')\n",
    "medianprops = dict(linestyle='-', linewidth=2.5, color='orange')\n",
    "flierprops = dict(marker='o', markerfacecolor='blue', markersize=5,\n",
    "                  markeredgecolor='none')\n",
    "\n",
    "for x in range(22):\n",
    "    fig, ax = plt.subplots(1,1,figsize = (12,1.8))\n",
    "    ax.boxplot(df_bp.iloc[:,columns],vert = False,showfliers=True,showmeans = True,meanline = True,widths=(0.3),labels = [df_bp_label[columns]],\n",
    "                 meanprops=meanlineprops,medianprops=medianprops,flierprops=flierprops)\n",
    "    columns = columns+1\n",
    "    with PdfPages('Preprocessed Dataset Distribution boxplot part ' +str([df_bp_label[columns-1]])+ '.pdf') as pdf:\n",
    "        pdf.savefig(fig) \n"
   ]
  }
 ],
 "metadata": {
  "kernelspec": {
   "display_name": "Python 3 (ipykernel)",
   "language": "python",
   "name": "python3"
  },
  "language_info": {
   "codemirror_mode": {
    "name": "ipython",
    "version": 3
   },
   "file_extension": ".py",
   "mimetype": "text/x-python",
   "name": "python",
   "nbconvert_exporter": "python",
   "pygments_lexer": "ipython3",
   "version": "3.10.9"
  }
 },
 "nbformat": 4,
 "nbformat_minor": 5
}
