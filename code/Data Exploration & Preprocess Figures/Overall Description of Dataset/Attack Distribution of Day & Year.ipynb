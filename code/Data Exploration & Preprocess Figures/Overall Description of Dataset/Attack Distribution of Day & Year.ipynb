{
 "cells": [
  {
   "cell_type": "code",
   "execution_count": null,
   "id": "ce49a111",
   "metadata": {},
   "outputs": [],
   "source": [
    "# Import the library\n",
    "import pandas as pd\n",
    "import numpy as np\n",
    "import matplotlib.pyplot as plt\n",
    "import matplotlib\n",
    "import seaborn as sns\n",
    "from scipy.stats import gaussian_kde\n",
    "from scipy import stats\n",
    "from matplotlib.backends.backend_pdf import PdfPages"
   ]
  },
  {
   "cell_type": "code",
   "execution_count": null,
   "id": "ac63b439",
   "metadata": {},
   "outputs": [],
   "source": [
    "original_df = pd.read_csv('/root/data/BitcoinHeistData.csv') \n",
    "Processed_df = pd.read_csv('/root/BTC_BalancedData_Inversed.csv')"
   ]
  },
  {
   "cell_type": "code",
   "execution_count": null,
   "id": "8c3c2507",
   "metadata": {},
   "outputs": [],
   "source": [
    "# create stacked histogram\n",
    "fig,ax = plt.subplots(2,1,figsize=(20, 12))\n",
    "#Unprocessed Attack Distribution According to Year\n",
    "Imbal_Year_Distri_Montreal = original_df.loc[original_df['label'].str.startswith(\"m\"),'year']\n",
    "Imbal_Year_Distri_Panuda = original_df.loc[original_df['label'].str.startswith(\"pa\"),'year']\n",
    "Imbal_Year_Distri_Princeton = original_df.loc[original_df['label'].str.startswith(\"pr\"),'year']\n",
    "Imbal_Year_Distri_White = original_df.loc[original_df['label'].str.startswith(\"w\"),'year']\n",
    "ax[0].set_ylim(0,25000)\n",
    "ax[0].hist([Imbal_Year_Distri_Montreal,Imbal_Year_Distri_Panuda,Imbal_Year_Distri_Princeton,Imbal_Year_Distri_White]\n",
    "         , stacked=True, bins=30, alpha=0.6,\n",
    "         label=['Montreal', 'Panuda', 'Princeton', 'White'])\n",
    "ax[0].set_title('Attack Distribution of Original Data')\n",
    "\n",
    "ax[0].legend(loc='upper left')\n",
    "\n",
    "#Processed Attack Distribution According to Year\n",
    "Bal_Year_Distri_Montreal = Processed_df.loc[Processed_df['label'] == 0,'year']\n",
    "Bal_Year_Distri_Panuda = Processed_df.loc[Processed_df['label'] == 1,'year']\n",
    "Bal_Year_Distri_Princeton = Processed_df.loc[Processed_df['label'] == 2,'year']\n",
    "Bal_Year_Distri_White = Processed_df.loc[Processed_df['label'] == 3,'year']\n",
    "#ax[1].set_ylim(0,20000)\n",
    "ax[1].hist([Bal_Year_Distri_Montreal,Bal_Year_Distri_Panuda,Bal_Year_Distri_Princeton,Bal_Year_Distri_White]\n",
    "         , stacked=True, bins=30, alpha=0.6,\n",
    "         label=['Montreal', 'Panuda', 'Princeton', 'White'])\n",
    "ax[1].set_title('Attack Distribution of Processed Data')\n",
    "\n",
    "ax[1].legend(loc='upper left')\n",
    "filename = 'Attack Distribution.pdf'\n",
    "with PdfPages(filename) as pdf:\n",
    "    pdf.savefig(fig)"
   ]
  },
  {
   "cell_type": "code",
   "execution_count": null,
   "id": "f98ea35d",
   "metadata": {},
   "outputs": [],
   "source": [
    "# create stacked histogram\n",
    "fig,ax = plt.subplots(2,1,figsize=(20, 12))\n",
    "#Unprocessed Attack Distribution According to Day\n",
    "Imbal_Day_Distri_Montreal = original_df.loc[original_df['label'].str.startswith(\"m\"),'day']\n",
    "Imbal_Day_Distri_Panuda = original_df.loc[original_df['label'].str.startswith(\"pa\"),'day']\n",
    "Imbal_Day_Distri_Princeton = original_df.loc[original_df['label'].str.startswith(\"pr\"),'day']\n",
    "Imbal_Day_Distri_White = original_df.loc[original_df['label'].str.startswith(\"w\"),'day']\n",
    "ax[0].set_ylim(0,7000)\n",
    "ax[0].hist([Imbal_Day_Distri_Montreal,Imbal_Day_Distri_Panuda,Imbal_Day_Distri_Princeton,Imbal_Day_Distri_White]\n",
    "         , stacked=True, bins=30, alpha=0.6,\n",
    "         label=['Montreal', 'Panuda', 'Princeton', 'White'])\n",
    "ax[0].set_title('Attack Distribution of Original Data according to day')\n",
    "\n",
    "ax[0].legend(loc='upper left')\n",
    "\n",
    "#Processed Attack Distribution According to Day\n",
    "Bal_Day_Distri_Montreal = Processed_df.loc[Processed_df['label'] == 0,'day']\n",
    "Bal_Day_Distri_Panuda = Processed_df.loc[Processed_df['label'] == 1,'day']\n",
    "Bal_Day_Distri_Princeton = Processed_df.loc[Processed_df['label'] == 2,'day']\n",
    "Bal_Day_Distri_White = Processed_df.loc[Processed_df['label'] == 3,'day']\n",
    "#ax[1].set_ylim(0,20000)\n",
    "ax[1].hist([Bal_Day_Distri_Montreal,Bal_Day_Distri_Panuda,Bal_Day_Distri_Princeton,Bal_Day_Distri_White]\n",
    "         , stacked=True, bins=30, alpha=0.6,\n",
    "         label=['Montreal', 'Panuda', 'Princeton', 'White'])\n",
    "ax[1].set_title('Attack Distribution of Processed Data according to day')\n",
    "\n",
    "ax[1].legend(loc='upper left')\n",
    "filename = 'Attack Distribution according to day.pdf'\n",
    "with PdfPages(filename) as pdf:\n",
    "    pdf.savefig(fig)"
   ]
  }
 ],
 "metadata": {
  "kernelspec": {
   "display_name": "Python 3 (ipykernel)",
   "language": "python",
   "name": "python3"
  },
  "language_info": {
   "codemirror_mode": {
    "name": "ipython",
    "version": 3
   },
   "file_extension": ".py",
   "mimetype": "text/x-python",
   "name": "python",
   "nbconvert_exporter": "python",
   "pygments_lexer": "ipython3",
   "version": "3.10.9"
  }
 },
 "nbformat": 4,
 "nbformat_minor": 5
}
